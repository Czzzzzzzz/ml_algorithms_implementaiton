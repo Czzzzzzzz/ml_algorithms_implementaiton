{
 "cells": [
  {
   "cell_type": "code",
   "execution_count": 117,
   "metadata": {},
   "outputs": [],
   "source": [
    "import numpy as np\n",
    "\n",
    "from sklearn import datasets\n",
    "from sklearn.decomposition import PCA\n",
    "\n",
    "import matplotlib.pyplot as plt"
   ]
  },
  {
   "cell_type": "markdown",
   "metadata": {},
   "source": [
    "# 0. PCA implementation"
   ]
  },
  {
   "cell_type": "code",
   "execution_count": 108,
   "metadata": {
    "collapsed": true
   },
   "outputs": [],
   "source": [
    "class My_PCA:\n",
    "    \n",
    "    def __init__(self, n_component):\n",
    "        '''\n",
    "        Parameters:\n",
    "        -----------\n",
    "        n_component: int, float\n",
    "            Number of components to keep\n",
    "            if n_component > 1, n_component principle components are kept.\n",
    "            \n",
    "            if 0 < n_component < 1, select the number of components such that the \n",
    "            amount of variance that needs to be explained is greater than the percentage \n",
    "            specified by n_components.\n",
    "        '''\n",
    "        self.n_component = n_component\n",
    "        self.components = None\n",
    "        self.mean = None\n",
    "        \n",
    "        self.dims = None\n",
    "    \n",
    "    def __explained_variance_gt(self, E, percentage):\n",
    "        '''\n",
    "        select the number of components such that the \n",
    "        amount of variance that needs to be explained is greater than the percentage \n",
    "        specified by n_components.\n",
    "        \n",
    "        Parameters:\n",
    "        -----------\n",
    "        E: array-like, shape (dims,)\n",
    "            diagnal matrix containing eigenvalues\n",
    "        \n",
    "        Returns:\n",
    "        --------\n",
    "        num: int\n",
    "            Returns the number of components. \n",
    "        '''\n",
    "        explained_variance = (E ** 2) \n",
    "        total_var = np.sum(explained_variance)\n",
    "        explained_variance_ratio = explained_variance / total_var\n",
    "        ratio_cumsum = np.cumsum(explained_variance_ratio)\n",
    "        num = np.searchsorted(ratio_cumsum, percentage) + 1\n",
    "        \n",
    "        return num\n",
    "        \n",
    "    \n",
    "    def fit(self, X):\n",
    "        '''\n",
    "        Step 1: the input data X is centered. \n",
    "        Step 2: compute SVD of X\n",
    "        Step 3: select the number of components\n",
    "        \n",
    "        Parameters:\n",
    "        -----------\n",
    "        X : array-like, shape (n_samples, n_features)\n",
    "            Training data, where n_samples is the number of samples\n",
    "            and n_features is the number of features.\n",
    "        \n",
    "        Returns:\n",
    "        --------\n",
    "        self: Object\n",
    "            Returns the instance itself.\n",
    "        '''\n",
    "        \n",
    "        self.dims = X.shape[1]\n",
    "        \n",
    "        '''\n",
    "        step 1: \n",
    "        center X.\n",
    "        '''\n",
    "        self.mean = np.mean(X, axis=0)\n",
    "        X = X - self.mean\n",
    "        \n",
    "        '''\n",
    "        step 2:\n",
    "        compute SVD of X and keep the eigenvectors of right singular matrix which is \n",
    "        exactly the eigenvectors of covariance matrix X^T*X\n",
    "        '''        \n",
    "        U, E, VT = np.linalg.svd(X)\n",
    "    \n",
    "        '''\n",
    "        step 3: determine the number of eigenvectors         \n",
    "        '''\n",
    "        if self.n_component < 1:            \n",
    "            num = self.__explained_variance_gt(E, self.n_component)\n",
    "        else:\n",
    "            num = self.n_component\n",
    "            \n",
    "        self.components = VT[:num, :]\n",
    "        \n",
    "        return self\n",
    "        \n",
    "    \n",
    "    def transform(self, X):\n",
    "        \n",
    "        assert X.shape[1] == self.dims, \"Shape(%d, %d) of X doesn't match the dimenstions %d\" % (X.shape[0], X.shape[1], self.dims)\n",
    "        \n",
    "        X = X - self.mean\n",
    "        X_ = np.matmul(X, self.components.T)\n",
    "        \n",
    "        return X_\n",
    "    "
   ]
  },
  {
   "cell_type": "markdown",
   "metadata": {},
   "source": [
    "# 1. Comparison between sklearn.PCA and my PC.\n",
    "\n",
    "* In the source code of sklearn.PCA, it executes the function svd_flip() to correct the signs. That's why the sign of some columns is the opposite of my result. In fact, I have no idea about the motivation of svd_flip()."
   ]
  },
  {
   "cell_type": "code",
   "execution_count": 103,
   "metadata": {},
   "outputs": [
    {
     "name": "stdout",
     "output_type": "stream",
     "text": [
      "show the first 10 rows:\n",
      " [[-2.68412563  0.31939725 -0.02791483]\n",
      " [-2.71414169 -0.17700123 -0.21046427]\n",
      " [-2.88899057 -0.14494943  0.01790026]\n",
      " [-2.74534286 -0.31829898  0.03155937]\n",
      " [-2.72871654  0.32675451  0.09007924]\n",
      " [-2.28085963  0.74133045  0.16867766]\n",
      " [-2.82053775 -0.08946138  0.25789216]\n",
      " [-2.62614497  0.16338496 -0.02187932]\n",
      " [-2.88638273 -0.57831175  0.02075957]\n",
      " [-2.6727558  -0.11377425 -0.19763272]]\n",
      "CPU times: user 3.75 ms, sys: 2.3 ms, total: 6.05 ms\n",
      "Wall time: 4 ms\n"
     ]
    }
   ],
   "source": [
    "%%time\n",
    "\n",
    "iris = datasets.load_iris()\n",
    "X = iris.data\n",
    "\n",
    "# X = np.array([[-1, -1], [-2, -1], [-3, -2], [1, 1], [2, 1], [3, 2]])\n",
    "pca = PCA(n_components=3)\n",
    "pca.fit(X)\n",
    "X = pca.transform(X)\n",
    "\n",
    "print('show the first 10 rows:\\n', X[:10])"
   ]
  },
  {
   "cell_type": "code",
   "execution_count": 107,
   "metadata": {},
   "outputs": [
    {
     "name": "stdout",
     "output_type": "stream",
     "text": [
      "show the first 10 rows:\n",
      " [[-2.68412563 -0.31939725  0.02791483]\n",
      " [-2.71414169  0.17700123  0.21046427]\n",
      " [-2.88899057  0.14494943 -0.01790026]\n",
      " [-2.74534286  0.31829898 -0.03155937]\n",
      " [-2.72871654 -0.32675451 -0.09007924]\n",
      " [-2.28085963 -0.74133045 -0.16867766]\n",
      " [-2.82053775  0.08946138 -0.25789216]\n",
      " [-2.62614497 -0.16338496  0.02187932]\n",
      " [-2.88638273  0.57831175 -0.02075957]\n",
      " [-2.6727558   0.11377425  0.19763272]]\n",
      "CPU times: user 1.57 ms, sys: 613 µs, total: 2.19 ms\n",
      "Wall time: 1.29 ms\n"
     ]
    }
   ],
   "source": [
    "%%time\n",
    "\n",
    "X = iris.data\n",
    "\n",
    "pca = My_PCA(3)\n",
    "pca.fit(X)\n",
    "X = pca.transform(X)\n",
    "\n",
    "print('show the first 10 rows:\\n', X[:10])"
   ]
  },
  {
   "cell_type": "markdown",
   "metadata": {},
   "source": [
    "# 2. Decompress data when percentage varies\n",
    "\n",
    "* The larger percentage, the more eigenvectors are selected, and the less reconstruction error."
   ]
  },
  {
   "cell_type": "code",
   "execution_count": 109,
   "metadata": {
    "collapsed": true
   },
   "outputs": [],
   "source": [
    "def decompress(compressed_data, eigenvectors):\n",
    "    X_hat = np.matmul(compressed_data, eigenvectors)\n",
    "    return X_hat\n",
    "\n",
    "def reconstruction_error(orig, decompressed):\n",
    "    error = np.mean((orig - decompressed)**2)\n",
    "    return error"
   ]
  },
  {
   "cell_type": "code",
   "execution_count": 121,
   "metadata": {},
   "outputs": [
    {
     "data": {
      "image/png": "[encoded data removed]",
      "text/plain": [
       "<Figure size 576x576 with 1 Axes>"
      ]
     },
     "metadata": {},
     "output_type": "display_data"
    },
    {
     "name": "stdout",
     "output_type": "stream",
     "text": [
      "CPU times: user 166 ms, sys: 6.99 ms, total: 173 ms\n",
      "Wall time: 112 ms\n"
     ]
    }
   ],
   "source": [
    "%%time\n",
    "\n",
    "X = iris.data\n",
    "ns = [1, 2, 3, 4]\n",
    "errors = []\n",
    "for n in ns:\n",
    "    pca = My_PCA(n)\n",
    "    pca.fit(X)\n",
    "    X_ = pca.transform(X)\n",
    "    decompress_X = decompress(X_, pca.components)\n",
    "    errors.append(reconstruction_error(X, decompress_X))\n",
    "\n",
    "plt.figure(figsize=(8, 8))\n",
    "plt.plot(ns, errors)\n",
    "plt.xlabel('n_components')\n",
    "plt.ylabel('reconstruction error')\n",
    "plt.show()"
   ]
  },
  {
   "cell_type": "markdown",
   "metadata": {},
   "source": [
    "# 3. Reference\n",
    "\n",
    "[1] https://scikit-learn.org/stable/modules/generated/sklearn.decomposition.PCA.html\n",
    "\n",
    "[2] https://github.com/scikit-learn/scikit-learn/blob/master/sklearn/decomposition/pca.py"
   ]
  }
 ],
 "metadata": {
  "kernelspec": {
   "display_name": "Python 3",
   "language": "python",
   "name": "python3"
  },
  "language_info": {
   "codemirror_mode": {
    "name": "ipython",
    "version": 3
   },
   "file_extension": ".py",
   "mimetype": "text/x-python",
   "name": "python",
   "nbconvert_exporter": "python",
   "pygments_lexer": "ipython3",
   "version": "3.6.8"
  }
 },
 "nbformat": 4,
 "nbformat_minor": 2
}
