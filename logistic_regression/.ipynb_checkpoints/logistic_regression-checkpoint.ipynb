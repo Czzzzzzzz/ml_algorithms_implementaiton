{
 "cells": [
  {
   "cell_type": "code",
   "execution_count": 33,
   "metadata": {
    "collapsed": true
   },
   "outputs": [],
   "source": [
    "import numpy as np\n",
    "\n",
    "import matplotlib.pyplot as plt\n",
    "\n",
    "np.random.seed(100)"
   ]
  },
  {
   "cell_type": "code",
   "execution_count": null,
   "metadata": {
    "collapsed": true
   },
   "outputs": [],
   "source": [
    "class LinearLayer:\n",
    "    def __init__(self, W, b):\n",
    "        self.W = W\n",
    "        self.b = b\n",
    "    \n",
    "    \n",
    "    def forward(self):\n",
    "        '''\n",
    "        output = w*x + b\n",
    "        '''\n",
    "        pass\n",
    "    \n",
    "    def backward(self):\n",
    "        pass"
   ]
  },
  {
   "cell_type": "code",
   "execution_count": null,
   "metadata": {
    "collapsed": true
   },
   "outputs": [],
   "source": [
    "class CrossEntropyLoss:\n",
    "    def forward(self):\n",
    "        pass\n",
    "    \n",
    "    def backward(self):\n",
    "        pass"
   ]
  },
  {
   "cell_type": "code",
   "execution_count": null,
   "metadata": {
    "collapsed": true
   },
   "outputs": [],
   "source": [
    "class NN:\n",
    "    \n",
    "    def forward(self):\n",
    "        pass"
   ]
  },
  {
   "cell_type": "code",
   "execution_count": 44,
   "metadata": {
    "collapsed": true
   },
   "outputs": [],
   "source": [
    "class LR:\n",
    "    def __init__(lr):\n",
    "        self.W = np.random.normal(0, 0.1, 1000)\n",
    "        self.b = np.random.normal(0, 0.1, 1)\n",
    "        self.learning_rate = lr\n",
    "    \n",
    "    def forward(self, X, y):\n",
    "        z = X.dot(self.W) + self.b\n",
    "        a = 1 / (1 + e.power(-z))\n",
    "        loss = -(y*np.log(a) + (1-y)*np.log(1-a))\n",
    "        return loss\n",
    "    \n",
    "    def backward(self, X, y):\n",
    "        z = X.dot(self.W) + self.b\n",
    "        a = 1 / (1 + e.power(-z))\n",
    "        self.W = self.W - self.learning_rate * (a - y) * X\n",
    "        self.b = self.b - self.learning_rate * (a - y)\n",
    "\n"
   ]
  },
  {
   "cell_type": "code",
   "execution_count": 41,
   "metadata": {},
   "outputs": [],
   "source": [
    "def toy_examples(N):    \n",
    "    mean_1 = [3, 3]\n",
    "    cov_1 = [[1, 0], [0, 1]]\n",
    "    X_1 = np.random.multivariate_normal(mean_1, cov_1, N)\n",
    "    y_1 = [1] * N\n",
    "    \n",
    "    mean_2 = [5, 0]\n",
    "    cov_2 = [[1, 0], [0, 1]]\n",
    "    X_2 = np.random.multivariate_normal(mean_2, cov_2, N)\n",
    "    y_2 = [0] * N\n",
    "    \n",
    "    X = np.r_[X_1, X_2]\n",
    "    y = np.r_[y_1, y_2]\n",
    "    \n",
    "    permutated_idx = np.random.permutation(2 * N)\n",
    "    X = X[permutated_idx]\n",
    "    y = y[permutated_idx]\n",
    "    \n",
    "    return X, y\n",
    "\n",
    "N = 100\n",
    "X, y = toy_examples(N)"
   ]
  },
  {
   "cell_type": "code",
   "execution_count": 42,
   "metadata": {},
   "outputs": [
    {
     "data": {
      "image/png": "[encoded data removed]",
      "text/plain": [
       "<Figure size 432x288 with 1 Axes>"
      ]
     },
     "metadata": {},
     "output_type": "display_data"
    }
   ],
   "source": [
    "plt.figure()\n",
    "plt.plot(X[y == 0][:, 0], X[y == 0][:, 1], 'o')\n",
    "plt.plot(X[y == 1][:, 0], X[y == 1][:, 1], 'o')\n",
    "plt.show()"
   ]
  },
  {
   "cell_type": "code",
   "execution_count": 45,
   "metadata": {},
   "outputs": [
    {
     "ename": "TypeError",
     "evalue": "__init__() takes 1 positional argument but 2 were given",
     "output_type": "error",
     "traceback": [
      "\u001b[0;31m---------------------------------------------------------------------------\u001b[0m",
      "\u001b[0;31mTypeError\u001b[0m                                 Traceback (most recent call last)",
      "\u001b[0;32m<ipython-input-45-8162e7b9856d>\u001b[0m in \u001b[0;36m<module>\u001b[0;34m()\u001b[0m\n\u001b[1;32m      2\u001b[0m \u001b[0mlr\u001b[0m \u001b[0;34m=\u001b[0m \u001b[0;36m0.01\u001b[0m\u001b[0;34m\u001b[0m\u001b[0;34m\u001b[0m\u001b[0m\n\u001b[1;32m      3\u001b[0m \u001b[0;34m\u001b[0m\u001b[0m\n\u001b[0;32m----> 4\u001b[0;31m \u001b[0mlr\u001b[0m \u001b[0;34m=\u001b[0m \u001b[0mLR\u001b[0m\u001b[0;34m(\u001b[0m\u001b[0mlr\u001b[0m\u001b[0;34m)\u001b[0m\u001b[0;34m\u001b[0m\u001b[0;34m\u001b[0m\u001b[0m\n\u001b[0m\u001b[1;32m      5\u001b[0m \u001b[0mlosses\u001b[0m \u001b[0;34m=\u001b[0m \u001b[0;34m[\u001b[0m\u001b[0;34m]\u001b[0m\u001b[0;34m\u001b[0m\u001b[0;34m\u001b[0m\u001b[0m\n\u001b[1;32m      6\u001b[0m \u001b[0;32mfor\u001b[0m \u001b[0m_\u001b[0m \u001b[0;32min\u001b[0m \u001b[0mrange\u001b[0m\u001b[0;34m(\u001b[0m\u001b[0mn_iterations\u001b[0m\u001b[0;34m)\u001b[0m\u001b[0;34m:\u001b[0m\u001b[0;34m\u001b[0m\u001b[0;34m\u001b[0m\u001b[0m\n",
      "\u001b[0;31mTypeError\u001b[0m: __init__() takes 1 positional argument but 2 were given"
     ]
    }
   ],
   "source": [
    "n_iterations = 100\n",
    "lr = 0.01\n",
    "\n",
    "lr = LR(lr)\n",
    "losses = []\n",
    "for _ in range(n_iterations):\n",
    "    \n",
    "    single_idx = np.random.randint(0, N)\n",
    "    single_X, single_y = X[single_idx], y[single_idx]\n",
    "    \n",
    "    loss = lr.forward(single_X, single_y)\n",
    "    losses.append(loss)\n",
    "    \n",
    "    lr.backward(single_X, single_y)\n",
    "    \n",
    "    "
   ]
  }
 ],
 "metadata": {
  "kernelspec": {
   "display_name": "Python 3",
   "language": "python",
   "name": "python3"
  },
  "language_info": {
   "codemirror_mode": {
    "name": "ipython",
    "version": 3
   },
   "file_extension": ".py",
   "mimetype": "text/x-python",
   "name": "python",
   "nbconvert_exporter": "python",
   "pygments_lexer": "ipython3",
   "version": "3.6.8"
  }
 },
 "nbformat": 4,
 "nbformat_minor": 2
}
